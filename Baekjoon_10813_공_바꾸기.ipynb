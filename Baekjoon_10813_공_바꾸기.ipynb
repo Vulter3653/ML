{
  "nbformat": 4,
  "nbformat_minor": 0,
  "metadata": {
    "colab": {
      "provenance": [],
      "authorship_tag": "ABX9TyPmxUZXy/W6Mh6ztNfQ4Z6u",
      "include_colab_link": true
    },
    "kernelspec": {
      "name": "python3",
      "display_name": "Python 3"
    },
    "language_info": {
      "name": "python"
    }
  },
  "cells": [
    {
      "cell_type": "markdown",
      "metadata": {
        "id": "view-in-github",
        "colab_type": "text"
      },
      "source": [
        "<a href=\"https://colab.research.google.com/github/Vulter3653/ML/blob/main/Baekjoon_10813_%EA%B3%B5_%EB%B0%94%EA%BE%B8%EA%B8%B0.ipynb\" target=\"_parent\"><img src=\"https://colab.research.google.com/assets/colab-badge.svg\" alt=\"Open In Colab\"/></a>"
      ]
    },
    {
      "cell_type": "code",
      "execution_count": 2,
      "metadata": {
        "colab": {
          "base_uri": "https://localhost:8080/"
        },
        "id": "eHdoW5nFrwRx",
        "outputId": "bd505b98-cfa8-4ac4-f399-7d70ad35716f"
      },
      "outputs": [
        {
          "output_type": "stream",
          "name": "stdout",
          "text": [
            "5 4\n",
            "1 2\n",
            "[2, 1, 3, 4, 5]\n",
            "3 4\n",
            "[2, 1, 4, 3, 5]\n",
            "1 4\n",
            "[3, 1, 4, 2, 5]\n",
            "2 2\n",
            "[3, 1, 4, 2, 5]\n",
            "[3, 1, 4, 2, 5]\n"
          ]
        }
      ],
      "source": [
        "n,m = map(int,input().split())\n",
        "basket_list=list(range(1,n+1))\n",
        "for _ in range(m):\n",
        "  i,j = map(int,input().split())\n",
        "  a = basket_list[i-1]\n",
        "  basket_list[i-1] = basket_list[j-1]\n",
        "  basket_list[j-1] = a\n",
        "  print(basket_list)\n",
        "print(basket_list)\n",
        "# [1 2 3 4 5]\n",
        "# [2 1 3 4 5]\n",
        "# [2 1 4 3 5]\n",
        "# [3 1 4 2 5]\n",
        "# [3 1 4 2 5]"
      ]
    },
    {
      "cell_type": "code",
      "source": [
        "n,m = map(int,input().split())\n",
        "basket_list=list(range(1,n+1))\n",
        "for _ in range(m):\n",
        "  i,j = map(int,input().split())\n",
        "  a = basket_list[i-1]\n",
        "  basket_list[i-1] = basket_list[j-1]\n",
        "  basket_list[j-1] = a\n",
        "print(' '.join(map(str,basket_list)))"
      ],
      "metadata": {
        "colab": {
          "base_uri": "https://localhost:8080/"
        },
        "id": "BPgQQFc-slEg",
        "outputId": "997f47f1-5a9d-4c01-87f1-bd80a7a0f1d7"
      },
      "execution_count": 3,
      "outputs": [
        {
          "output_type": "stream",
          "name": "stdout",
          "text": [
            "5 4\n",
            "1 2\n",
            "3 4\n",
            "1 4\n",
            "2 2\n",
            "3 1 4 2 5\n"
          ]
        }
      ]
    },
    {
      "cell_type": "code",
      "source": [
        "import sys\n",
        "n,m = map(int,sys.stdin.readline().split())\n",
        "basket_list=list(range(1,n+1))\n",
        "for _ in range(m):\n",
        "  i,j = map(int,sys.stdin.readline().split())\n",
        "  a = basket_list[i-1]\n",
        "  basket_list[i-1] = basket_list[j-1]\n",
        "  basket_list[j-1] = a\n",
        "print(' '.join(map(str,basket_list)))"
      ],
      "metadata": {
        "id": "03KZGMT4sxnD"
      },
      "execution_count": null,
      "outputs": []
    }
  ]
}