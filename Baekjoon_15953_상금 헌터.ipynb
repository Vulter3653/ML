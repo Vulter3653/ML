{
  "nbformat": 4,
  "nbformat_minor": 0,
  "metadata": {
    "colab": {
      "provenance": [],
      "authorship_tag": "ABX9TyN+Y8Gm9b/l7emioMX689cI",
      "include_colab_link": true
    },
    "kernelspec": {
      "name": "python3",
      "display_name": "Python 3"
    },
    "language_info": {
      "name": "python"
    }
  },
  "cells": [
    {
      "cell_type": "markdown",
      "metadata": {
        "id": "view-in-github",
        "colab_type": "text"
      },
      "source": [
        "<a href=\"https://colab.research.google.com/github/Vulter3653/ML/blob/main/Baekjoon_15953_%EC%83%81%EA%B8%88%20%ED%97%8C%ED%84%B0.ipynb\" target=\"_parent\"><img src=\"https://colab.research.google.com/assets/colab-badge.svg\" alt=\"Open In Colab\"/></a>"
      ]
    },
    {
      "cell_type": "code",
      "execution_count": null,
      "metadata": {
        "id": "IOoxYbTMoAY7"
      },
      "outputs": [],
      "source": [
        "a_price=[500,300,300,200,200,200,50,50,50,50,30,30,30,30,30,10,10,10,10,10,10]\n",
        "b_price=[512,256,256,128,128,128,128,64,64,64,64,64,64,64,64,32,32,32,32,32,32,32,32,32,32,32,32,32,32,32,32]\n",
        "\n",
        "for _ in range(int(input())):\n",
        "  a,b = map(int,input().split())\n",
        "  price = 0\n",
        "  if a != 0 and  a <22:\n",
        "    price += a_price[a-1]\n",
        "  if b != 0 and  b <32:\n",
        "    price += b_price[b-1]\n",
        "  print(price*10000)"
      ]
    },
    {
      "cell_type": "code",
      "source": [
        "import sys\n",
        "\n",
        "a_price=[500,300,300,200,200,200,50,50,50,50,30,30,30,30,30,10,10,10,10,10,10]\n",
        "b_price=[512,256,256,128,128,128,128,64,64,64,64,64,64,64,64,32,32,32,32,32,32,32,32,32,32,32,32,32,32,32,32]\n",
        "\n",
        "for _ in range(int(sys.stdin.readline())):\n",
        "  a,b = map(int,sys.stdin.readline().split())\n",
        "  price = 0\n",
        "  if a != 0 and  a <22:\n",
        "    price += a_price[a-1]\n",
        "  if b != 0 and  b <32:\n",
        "    price += b_price[b-1]\n",
        "  print(price*10000)"
      ],
      "metadata": {
        "id": "ORNAsHgSqs_w"
      },
      "execution_count": null,
      "outputs": []
    }
  ]
}